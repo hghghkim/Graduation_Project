{
 "cells": [
  {
   "cell_type": "code",
   "execution_count": 1,
   "metadata": {},
   "outputs": [],
   "source": [
    "import os\n",
    "import glob\n",
    "import numpy as np"
   ]
  },
  {
   "cell_type": "code",
   "execution_count": 2,
   "metadata": {},
   "outputs": [],
   "source": [
    "import re\n",
    "numbers = re.compile(r'(\\d+)')\n",
    "def numericalSort(value):\n",
    "    parts = numbers.split(value)\n",
    "    parts[1::2] = map(int, parts[1::2])\n",
    "    return parts"
   ]
  },
  {
   "cell_type": "code",
   "execution_count": 3,
   "metadata": {},
   "outputs": [
    {
     "name": "stdout",
     "output_type": "stream",
     "text": [
      "Current File Being Processed is: /Users/kimhangi/data/Project/new_dataset/validation/913.npy\n",
      "Current File Being Processed is: /Users/kimhangi/data/Project/new_dataset/validation/914.npy\n",
      "Current File Being Processed is: /Users/kimhangi/data/Project/new_dataset/validation/915.npy\n",
      "Current File Being Processed is: /Users/kimhangi/data/Project/new_dataset/validation/917.npy\n",
      "Current File Being Processed is: /Users/kimhangi/data/Project/new_dataset/validation/919.npy\n",
      "Current File Being Processed is: /Users/kimhangi/data/Project/new_dataset/validation/920.npy\n",
      "Current File Being Processed is: /Users/kimhangi/data/Project/new_dataset/validation/922.npy\n",
      "Current File Being Processed is: /Users/kimhangi/data/Project/new_dataset/validation/924.npy\n",
      "Current File Being Processed is: /Users/kimhangi/data/Project/new_dataset/validation/928.npy\n",
      "Current File Being Processed is: /Users/kimhangi/data/Project/new_dataset/validation/929.npy\n",
      "Current File Being Processed is: /Users/kimhangi/data/Project/new_dataset/validation/933.npy\n",
      "Current File Being Processed is: /Users/kimhangi/data/Project/new_dataset/validation/934.npy\n",
      "Current File Being Processed is: /Users/kimhangi/data/Project/new_dataset/validation/937.npy\n",
      "Current File Being Processed is: /Users/kimhangi/data/Project/new_dataset/validation/938.npy\n",
      "Current File Being Processed is: /Users/kimhangi/data/Project/new_dataset/validation/940.npy\n",
      "Current File Being Processed is: /Users/kimhangi/data/Project/new_dataset/validation/941.npy\n",
      "Current File Being Processed is: /Users/kimhangi/data/Project/new_dataset/validation/950.npy\n",
      "Current File Being Processed is: /Users/kimhangi/data/Project/new_dataset/validation/954.npy\n",
      "Current File Being Processed is: /Users/kimhangi/data/Project/new_dataset/validation/959.npy\n",
      "Current File Being Processed is: /Users/kimhangi/data/Project/new_dataset/validation/960.npy\n",
      "Current File Being Processed is: /Users/kimhangi/data/Project/new_dataset/validation/961.npy\n",
      "Current File Being Processed is: /Users/kimhangi/data/Project/new_dataset/validation/964.npy\n",
      "Current File Being Processed is: /Users/kimhangi/data/Project/new_dataset/validation/967.npy\n",
      "Current File Being Processed is: /Users/kimhangi/data/Project/new_dataset/validation/968.npy\n",
      "Current File Being Processed is: /Users/kimhangi/data/Project/new_dataset/validation/970.npy\n",
      "Current File Being Processed is: /Users/kimhangi/data/Project/new_dataset/validation/971.npy\n",
      "Current File Being Processed is: /Users/kimhangi/data/Project/new_dataset/validation/972.npy\n",
      "Current File Being Processed is: /Users/kimhangi/data/Project/new_dataset/validation/976.npy\n",
      "Current File Being Processed is: /Users/kimhangi/data/Project/new_dataset/validation/978.npy\n",
      "Current File Being Processed is: /Users/kimhangi/data/Project/new_dataset/validation/979.npy\n",
      "Current File Being Processed is: /Users/kimhangi/data/Project/new_dataset/validation/981.npy\n",
      "Current File Being Processed is: /Users/kimhangi/data/Project/new_dataset/validation/984.npy\n",
      "Current File Being Processed is: /Users/kimhangi/data/Project/new_dataset/validation/985.npy\n",
      "Current File Being Processed is: /Users/kimhangi/data/Project/new_dataset/validation/989.npy\n",
      "Current File Being Processed is: /Users/kimhangi/data/Project/new_dataset/validation/992.npy\n",
      "Current File Being Processed is: /Users/kimhangi/data/Project/new_dataset/validation/994.npy\n",
      "Current File Being Processed is: /Users/kimhangi/data/Project/new_dataset/validation/999.npy\n",
      "Current File Being Processed is: /Users/kimhangi/data/Project/new_dataset/validation/1001.npy\n",
      "Current File Being Processed is: /Users/kimhangi/data/Project/new_dataset/validation/1002.npy\n",
      "Current File Being Processed is: /Users/kimhangi/data/Project/new_dataset/validation/1004.npy\n",
      "Current File Being Processed is: /Users/kimhangi/data/Project/new_dataset/validation/1006.npy\n",
      "Current File Being Processed is: /Users/kimhangi/data/Project/new_dataset/validation/1007.npy\n",
      "Current File Being Processed is: /Users/kimhangi/data/Project/new_dataset/validation/1012.npy\n",
      "Current File Being Processed is: /Users/kimhangi/data/Project/new_dataset/validation/1017.npy\n",
      "Current File Being Processed is: /Users/kimhangi/data/Project/new_dataset/validation/1019.npy\n",
      "Current File Being Processed is: /Users/kimhangi/data/Project/new_dataset/validation/1020.npy\n",
      "Current File Being Processed is: /Users/kimhangi/data/Project/new_dataset/validation/1021.npy\n",
      "Current File Being Processed is: /Users/kimhangi/data/Project/new_dataset/validation/1025.npy\n",
      "Current File Being Processed is: /Users/kimhangi/data/Project/new_dataset/validation/1026.npy\n",
      "Current File Being Processed is: /Users/kimhangi/data/Project/new_dataset/validation/1030.npy\n",
      "Current File Being Processed is: /Users/kimhangi/data/Project/new_dataset/validation/1031.npy\n",
      "Current File Being Processed is: /Users/kimhangi/data/Project/new_dataset/validation/1034.npy\n",
      "Current File Being Processed is: /Users/kimhangi/data/Project/new_dataset/validation/1035.npy\n",
      "Current File Being Processed is: /Users/kimhangi/data/Project/new_dataset/validation/1036.npy\n",
      "Current File Being Processed is: /Users/kimhangi/data/Project/new_dataset/validation/1041.npy\n",
      "Current File Being Processed is: /Users/kimhangi/data/Project/new_dataset/validation/1044.npy\n",
      "Current File Being Processed is: /Users/kimhangi/data/Project/new_dataset/validation/1046.npy\n",
      "Current File Being Processed is: /Users/kimhangi/data/Project/new_dataset/validation/1049.npy\n",
      "Current File Being Processed is: /Users/kimhangi/data/Project/new_dataset/validation/1050.npy\n",
      "Current File Being Processed is: /Users/kimhangi/data/Project/new_dataset/validation/1052.npy\n",
      "Current File Being Processed is: /Users/kimhangi/data/Project/new_dataset/validation/1054.npy\n",
      "Current File Being Processed is: /Users/kimhangi/data/Project/new_dataset/validation/1055.npy\n",
      "Current File Being Processed is: /Users/kimhangi/data/Project/new_dataset/validation/1057.npy\n",
      "Current File Being Processed is: /Users/kimhangi/data/Project/new_dataset/validation/1058.npy\n",
      "Current File Being Processed is: /Users/kimhangi/data/Project/new_dataset/validation/1059.npy\n",
      "Current File Being Processed is: /Users/kimhangi/data/Project/new_dataset/validation/1060.npy\n",
      "Current File Being Processed is: /Users/kimhangi/data/Project/new_dataset/validation/1061.npy\n",
      "Current File Being Processed is: /Users/kimhangi/data/Project/new_dataset/validation/1063.npy\n",
      "Current File Being Processed is: /Users/kimhangi/data/Project/new_dataset/validation/1065.npy\n",
      "Current File Being Processed is: /Users/kimhangi/data/Project/new_dataset/validation/1067.npy\n",
      "Current File Being Processed is: /Users/kimhangi/data/Project/new_dataset/validation/1068.npy\n",
      "Current File Being Processed is: /Users/kimhangi/data/Project/new_dataset/validation/1071.npy\n",
      "Current File Being Processed is: /Users/kimhangi/data/Project/new_dataset/validation/1072.npy\n",
      "Current File Being Processed is: /Users/kimhangi/data/Project/new_dataset/validation/1074.npy\n",
      "Current File Being Processed is: /Users/kimhangi/data/Project/new_dataset/validation/1075.npy\n",
      "Current File Being Processed is: /Users/kimhangi/data/Project/new_dataset/validation/1077.npy\n",
      "Current File Being Processed is: /Users/kimhangi/data/Project/new_dataset/validation/1078.npy\n",
      "Current File Being Processed is: /Users/kimhangi/data/Project/new_dataset/validation/1081.npy\n",
      "Current File Being Processed is: /Users/kimhangi/data/Project/new_dataset/validation/1082.npy\n",
      "Current File Being Processed is: /Users/kimhangi/data/Project/new_dataset/validation/1084.npy\n",
      "Current File Being Processed is: /Users/kimhangi/data/Project/new_dataset/validation/1086.npy\n",
      "Current File Being Processed is: /Users/kimhangi/data/Project/new_dataset/validation/1087.npy\n",
      "Current File Being Processed is: /Users/kimhangi/data/Project/new_dataset/validation/1089.npy\n",
      "Current File Being Processed is: /Users/kimhangi/data/Project/new_dataset/validation/1090.npy\n",
      "Current File Being Processed is: /Users/kimhangi/data/Project/new_dataset/validation/1091.npy\n",
      "Current File Being Processed is: /Users/kimhangi/data/Project/new_dataset/validation/1096.npy\n",
      "Current File Being Processed is: /Users/kimhangi/data/Project/new_dataset/validation/1098.npy\n",
      "Current File Being Processed is: /Users/kimhangi/data/Project/new_dataset/validation/1100.npy\n",
      "Current File Being Processed is: /Users/kimhangi/data/Project/new_dataset/validation/1102.npy\n",
      "Current File Being Processed is: /Users/kimhangi/data/Project/new_dataset/validation/1104.npy\n",
      "Current File Being Processed is: /Users/kimhangi/data/Project/new_dataset/validation/1106.npy\n",
      "Current File Being Processed is: /Users/kimhangi/data/Project/new_dataset/validation/1109.npy\n",
      "Current File Being Processed is: /Users/kimhangi/data/Project/new_dataset/validation/1110.npy\n",
      "Current File Being Processed is: /Users/kimhangi/data/Project/new_dataset/validation/1111.npy\n",
      "Current File Being Processed is: /Users/kimhangi/data/Project/new_dataset/validation/1115.npy\n",
      "Current File Being Processed is: /Users/kimhangi/data/Project/new_dataset/validation/1117.npy\n",
      "Current File Being Processed is: /Users/kimhangi/data/Project/new_dataset/validation/1119.npy\n",
      "Current File Being Processed is: /Users/kimhangi/data/Project/new_dataset/validation/1120.npy\n",
      "Current File Being Processed is: /Users/kimhangi/data/Project/new_dataset/validation/1122.npy\n",
      "Current File Being Processed is: /Users/kimhangi/data/Project/new_dataset/validation/1124.npy\n"
     ]
    }
   ],
   "source": [
    "files = sorted(glob.glob(r'/Users/kimhangi/data/Project/new_dataset/validation/*.npy'), key=numericalSort)\n",
    "arrays = []\n",
    "for f in files:\n",
    "    print(\"Current File Being Processed is: \" + f)\n",
    "    arrays.append(np.load(f))\n",
    "data = np.concatenate(arrays)"
   ]
  },
  {
   "cell_type": "code",
   "execution_count": 4,
   "metadata": {},
   "outputs": [],
   "source": [
    "d = data.reshape(100,60,60,275,1)"
   ]
  },
  {
   "cell_type": "code",
   "execution_count": 5,
   "metadata": {},
   "outputs": [
    {
     "data": {
      "text/plain": [
       "(100, 60, 60, 275, 1)"
      ]
     },
     "execution_count": 5,
     "metadata": {},
     "output_type": "execute_result"
    }
   ],
   "source": [
    "d.shape"
   ]
  },
  {
   "cell_type": "code",
   "execution_count": 6,
   "metadata": {},
   "outputs": [
    {
     "data": {
      "text/plain": [
       "(60, 60, 275, 1)"
      ]
     },
     "execution_count": 6,
     "metadata": {},
     "output_type": "execute_result"
    }
   ],
   "source": [
    "d1 = d[3,:,:,:,:]\n",
    "d1.shape"
   ]
  },
  {
   "cell_type": "code",
   "execution_count": 7,
   "metadata": {},
   "outputs": [],
   "source": [
    "from PIL import Image"
   ]
  },
  {
   "cell_type": "code",
   "execution_count": 8,
   "metadata": {},
   "outputs": [],
   "source": [
    "img2 = Image.fromarray(np.uint8(d1[:,:,3,0] * 255) , 'L')"
   ]
  },
  {
   "cell_type": "code",
   "execution_count": 9,
   "metadata": {},
   "outputs": [
    {
     "data": {
      "image/png": "[encoded data removed]",
      "text/plain": [
       "<PIL.Image.Image image mode=L size=60x60 at 0x11ACB73D0>"
      ]
     },
     "execution_count": 9,
     "metadata": {},
     "output_type": "execute_result"
    }
   ],
   "source": [
    "img2"
   ]
  },
  {
   "cell_type": "code",
   "execution_count": 10,
   "metadata": {},
   "outputs": [],
   "source": [
    "np.save('/Users/kimhangi/Data/Project/new_dataset/2.npy',d)"
   ]
  },
  {
   "cell_type": "code",
   "execution_count": null,
   "metadata": {},
   "outputs": [],
   "source": []
  }
 ],
 "metadata": {
  "kernelspec": {
   "display_name": "Python 3",
   "language": "python",
   "name": "python3"
  },
  "language_info": {
   "codemirror_mode": {
    "name": "ipython",
    "version": 3
   },
   "file_extension": ".py",
   "mimetype": "text/x-python",
   "name": "python",
   "nbconvert_exporter": "python",
   "pygments_lexer": "ipython3",
   "version": "3.7.4"
  }
 },
 "nbformat": 4,
 "nbformat_minor": 4
}
