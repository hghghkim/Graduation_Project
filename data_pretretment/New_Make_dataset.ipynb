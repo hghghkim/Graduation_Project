{
 "cells": [
  {
   "cell_type": "code",
   "execution_count": 1,
   "metadata": {},
   "outputs": [],
   "source": [
    "import os\n",
    "import glob\n",
    "import numpy as np"
   ]
  },
  {
   "cell_type": "code",
   "execution_count": 2,
   "metadata": {},
   "outputs": [],
   "source": [
    "import re\n",
    "numbers = re.compile(r'(\\d+)')\n",
    "def numericalSort(value):\n",
    "    parts = numbers.split(value)\n",
    "    parts[1::2] = map(int, parts[1::2])\n",
    "    return parts"
   ]
  },
  {
   "cell_type": "code",
   "execution_count": 3,
   "metadata": {},
   "outputs": [
    {
     "name": "stdout",
     "output_type": "stream",
     "text": [
      "Current File Being Processed is: /Users/kimhangi/data/Project/new_dataset/test/1133.npy\n",
      "Current File Being Processed is: /Users/kimhangi/data/Project/new_dataset/test/1137.npy\n",
      "Current File Being Processed is: /Users/kimhangi/data/Project/new_dataset/test/1138.npy\n",
      "Current File Being Processed is: /Users/kimhangi/data/Project/new_dataset/test/1140.npy\n",
      "Current File Being Processed is: /Users/kimhangi/data/Project/new_dataset/test/1141.npy\n",
      "Current File Being Processed is: /Users/kimhangi/data/Project/new_dataset/test/1143.npy\n",
      "Current File Being Processed is: /Users/kimhangi/data/Project/new_dataset/test/1145.npy\n",
      "Current File Being Processed is: /Users/kimhangi/data/Project/new_dataset/test/1149.npy\n",
      "Current File Being Processed is: /Users/kimhangi/data/Project/new_dataset/test/1151.npy\n",
      "Current File Being Processed is: /Users/kimhangi/data/Project/new_dataset/test/1152.npy\n",
      "Current File Being Processed is: /Users/kimhangi/data/Project/new_dataset/test/1155.npy\n",
      "Current File Being Processed is: /Users/kimhangi/data/Project/new_dataset/test/1158.npy\n",
      "Current File Being Processed is: /Users/kimhangi/data/Project/new_dataset/test/1159.npy\n",
      "Current File Being Processed is: /Users/kimhangi/data/Project/new_dataset/test/1161.npy\n",
      "Current File Being Processed is: /Users/kimhangi/data/Project/new_dataset/test/1163.npy\n",
      "Current File Being Processed is: /Users/kimhangi/data/Project/new_dataset/test/1166.npy\n",
      "Current File Being Processed is: /Users/kimhangi/data/Project/new_dataset/test/1167.npy\n",
      "Current File Being Processed is: /Users/kimhangi/data/Project/new_dataset/test/1169.npy\n",
      "Current File Being Processed is: /Users/kimhangi/data/Project/new_dataset/test/1170.npy\n",
      "Current File Being Processed is: /Users/kimhangi/data/Project/new_dataset/test/1173.npy\n",
      "Current File Being Processed is: /Users/kimhangi/data/Project/new_dataset/test/1176.npy\n",
      "Current File Being Processed is: /Users/kimhangi/data/Project/new_dataset/test/1177.npy\n",
      "Current File Being Processed is: /Users/kimhangi/data/Project/new_dataset/test/1179.npy\n",
      "Current File Being Processed is: /Users/kimhangi/data/Project/new_dataset/test/1180.npy\n",
      "Current File Being Processed is: /Users/kimhangi/data/Project/new_dataset/test/1182.npy\n",
      "Current File Being Processed is: /Users/kimhangi/data/Project/new_dataset/test/1183.npy\n",
      "Current File Being Processed is: /Users/kimhangi/data/Project/new_dataset/test/1184.npy\n",
      "Current File Being Processed is: /Users/kimhangi/data/Project/new_dataset/test/1186.npy\n",
      "Current File Being Processed is: /Users/kimhangi/data/Project/new_dataset/test/1188.npy\n",
      "Current File Being Processed is: /Users/kimhangi/data/Project/new_dataset/test/1191.npy\n",
      "Current File Being Processed is: /Users/kimhangi/data/Project/new_dataset/test/1196.npy\n",
      "Current File Being Processed is: /Users/kimhangi/data/Project/new_dataset/test/1198.npy\n",
      "Current File Being Processed is: /Users/kimhangi/data/Project/new_dataset/test/1200.npy\n",
      "Current File Being Processed is: /Users/kimhangi/data/Project/new_dataset/test/1204.npy\n",
      "Current File Being Processed is: /Users/kimhangi/data/Project/new_dataset/test/1205.npy\n",
      "Current File Being Processed is: /Users/kimhangi/data/Project/new_dataset/test/1209.npy\n",
      "Current File Being Processed is: /Users/kimhangi/data/Project/new_dataset/test/1210.npy\n",
      "Current File Being Processed is: /Users/kimhangi/data/Project/new_dataset/test/1211.npy\n",
      "Current File Being Processed is: /Users/kimhangi/data/Project/new_dataset/test/1213.npy\n",
      "Current File Being Processed is: /Users/kimhangi/data/Project/new_dataset/test/1217.npy\n",
      "Current File Being Processed is: /Users/kimhangi/data/Project/new_dataset/test/1221.npy\n",
      "Current File Being Processed is: /Users/kimhangi/data/Project/new_dataset/test/1223.npy\n",
      "Current File Being Processed is: /Users/kimhangi/data/Project/new_dataset/test/1227.npy\n",
      "Current File Being Processed is: /Users/kimhangi/data/Project/new_dataset/test/1228.npy\n",
      "Current File Being Processed is: /Users/kimhangi/data/Project/new_dataset/test/1229.npy\n",
      "Current File Being Processed is: /Users/kimhangi/data/Project/new_dataset/test/1232.npy\n",
      "Current File Being Processed is: /Users/kimhangi/data/Project/new_dataset/test/1234.npy\n",
      "Current File Being Processed is: /Users/kimhangi/data/Project/new_dataset/test/1236.npy\n",
      "Current File Being Processed is: /Users/kimhangi/data/Project/new_dataset/test/1237.npy\n",
      "Current File Being Processed is: /Users/kimhangi/data/Project/new_dataset/test/1239.npy\n",
      "Current File Being Processed is: /Users/kimhangi/data/Project/new_dataset/test/1240.npy\n",
      "Current File Being Processed is: /Users/kimhangi/data/Project/new_dataset/test/1244.npy\n",
      "Current File Being Processed is: /Users/kimhangi/data/Project/new_dataset/test/1246.npy\n",
      "Current File Being Processed is: /Users/kimhangi/data/Project/new_dataset/test/1248.npy\n",
      "Current File Being Processed is: /Users/kimhangi/data/Project/new_dataset/test/1250.npy\n",
      "Current File Being Processed is: /Users/kimhangi/data/Project/new_dataset/test/1251.npy\n",
      "Current File Being Processed is: /Users/kimhangi/data/Project/new_dataset/test/1253.npy\n",
      "Current File Being Processed is: /Users/kimhangi/data/Project/new_dataset/test/1255.npy\n",
      "Current File Being Processed is: /Users/kimhangi/data/Project/new_dataset/test/1259.npy\n",
      "Current File Being Processed is: /Users/kimhangi/data/Project/new_dataset/test/1260.npy\n",
      "Current File Being Processed is: /Users/kimhangi/data/Project/new_dataset/test/1261.npy\n",
      "Current File Being Processed is: /Users/kimhangi/data/Project/new_dataset/test/1262.npy\n",
      "Current File Being Processed is: /Users/kimhangi/data/Project/new_dataset/test/1263.npy\n",
      "Current File Being Processed is: /Users/kimhangi/data/Project/new_dataset/test/1264.npy\n",
      "Current File Being Processed is: /Users/kimhangi/data/Project/new_dataset/test/1266.npy\n",
      "Current File Being Processed is: /Users/kimhangi/data/Project/new_dataset/test/1267.npy\n",
      "Current File Being Processed is: /Users/kimhangi/data/Project/new_dataset/test/1269.npy\n",
      "Current File Being Processed is: /Users/kimhangi/data/Project/new_dataset/test/1270.npy\n",
      "Current File Being Processed is: /Users/kimhangi/data/Project/new_dataset/test/1271.npy\n",
      "Current File Being Processed is: /Users/kimhangi/data/Project/new_dataset/test/1272.npy\n",
      "Current File Being Processed is: /Users/kimhangi/data/Project/new_dataset/test/1273.npy\n",
      "Current File Being Processed is: /Users/kimhangi/data/Project/new_dataset/test/1275.npy\n",
      "Current File Being Processed is: /Users/kimhangi/data/Project/new_dataset/test/1276.npy\n",
      "Current File Being Processed is: /Users/kimhangi/data/Project/new_dataset/test/1277.npy\n",
      "Current File Being Processed is: /Users/kimhangi/data/Project/new_dataset/test/1281.npy\n",
      "Current File Being Processed is: /Users/kimhangi/data/Project/new_dataset/test/1283.npy\n",
      "Current File Being Processed is: /Users/kimhangi/data/Project/new_dataset/test/1287.npy\n",
      "Current File Being Processed is: /Users/kimhangi/data/Project/new_dataset/test/1289.npy\n",
      "Current File Being Processed is: /Users/kimhangi/data/Project/new_dataset/test/1291.npy\n",
      "Current File Being Processed is: /Users/kimhangi/data/Project/new_dataset/test/1294.npy\n"
     ]
    }
   ],
   "source": [
    "files = sorted(glob.glob(r'/Users/kimhangi/data/Project/new_dataset/test/*.npy'), key=numericalSort)\n",
    "arrays = []\n",
    "for f in files:\n",
    "    print(\"Current File Being Processed is: \" + f)\n",
    "    arrays.append(np.load(f))\n",
    "data = np.concatenate(arrays)"
   ]
  },
  {
   "cell_type": "code",
   "execution_count": 4,
   "metadata": {},
   "outputs": [],
   "source": [
    "d = data.reshape(80,60,60,275,1)"
   ]
  },
  {
   "cell_type": "code",
   "execution_count": 5,
   "metadata": {},
   "outputs": [
    {
     "data": {
      "text/plain": [
       "(80, 60, 60, 275, 1)"
      ]
     },
     "execution_count": 5,
     "metadata": {},
     "output_type": "execute_result"
    }
   ],
   "source": [
    "d.shape"
   ]
  },
  {
   "cell_type": "code",
   "execution_count": 6,
   "metadata": {},
   "outputs": [
    {
     "data": {
      "text/plain": [
       "(60, 60, 275, 1)"
      ]
     },
     "execution_count": 6,
     "metadata": {},
     "output_type": "execute_result"
    }
   ],
   "source": [
    "d1 = d[3,:,:,:,:]\n",
    "d1.shape"
   ]
  },
  {
   "cell_type": "code",
   "execution_count": 7,
   "metadata": {},
   "outputs": [],
   "source": [
    "from PIL import Image"
   ]
  },
  {
   "cell_type": "code",
   "execution_count": 8,
   "metadata": {},
   "outputs": [],
   "source": [
    "img2 = Image.fromarray(np.uint8(d1[:,:,3,0] * 255) , 'L')"
   ]
  },
  {
   "cell_type": "code",
   "execution_count": 9,
   "metadata": {},
   "outputs": [
    {
     "data": {
      "image/png": "[encoded data removed]",
      "text/plain": [
       "<PIL.Image.Image image mode=L size=60x60 at 0x164DC0110>"
      ]
     },
     "execution_count": 9,
     "metadata": {},
     "output_type": "execute_result"
    }
   ],
   "source": [
    "img2"
   ]
  },
  {
   "cell_type": "code",
   "execution_count": 10,
   "metadata": {},
   "outputs": [],
   "source": [
    "np.save('/Users/kimhangi/Data/Project/new_dataset/3.npy',d)"
   ]
  },
  {
   "cell_type": "code",
   "execution_count": null,
   "metadata": {},
   "outputs": [],
   "source": []
  }
 ],
 "metadata": {
  "kernelspec": {
   "display_name": "Python 3",
   "language": "python",
   "name": "python3"
  },
  "language_info": {
   "codemirror_mode": {
    "name": "ipython",
    "version": 3
   },
   "file_extension": ".py",
   "mimetype": "text/x-python",
   "name": "python",
   "nbconvert_exporter": "python",
   "pygments_lexer": "ipython3",
   "version": "3.7.4"
  }
 },
 "nbformat": 4,
 "nbformat_minor": 4
}
