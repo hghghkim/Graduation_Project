{
 "cells": [
  {
   "cell_type": "code",
   "execution_count": 1,
   "metadata": {},
   "outputs": [
    {
     "name": "stderr",
     "output_type": "stream",
     "text": [
      "Using TensorFlow backend.\n"
     ]
    }
   ],
   "source": [
    "import os\n",
    "import numpy as np\n",
    "import glob\n",
    "\n",
    "import keras\n",
    "from keras import models\n",
    "from keras import layers\n",
    "from keras import optimizers\n",
    "from keras.layers import Dropout, Input\n",
    "from keras.layers import Conv2D, Conv3D, Flatten, Dense, Reshape, BatchNormalization\n",
    "from keras.models import Model\n",
    "from keras.optimizers import Adam\n",
    "from keras.callbacks import ModelCheckpoint"
   ]
  },
  {
   "cell_type": "code",
   "execution_count": 2,
   "metadata": {},
   "outputs": [],
   "source": [
    "train_x = np.load('./train_375.npy')\n",
    "test_x = np.load('./test_125.npy')"
   ]
  },
  {
   "cell_type": "code",
   "execution_count": 3,
   "metadata": {},
   "outputs": [],
   "source": [
    "#train_a = np.zeros(shape=(1,61,61,275,1))\n",
    "#for f in glob.glob(\"./train/*.npy\"):\n",
    "#    with open(f, \"rb\") as infile:\n",
    "#            train_data = np.load(infile).reshape(1,61,61,275,1)\n",
    "#            train_b = np.concatenate([train_data,train_a],axis=0)\n",
    "#            train_a = train_b"
   ]
  },
  {
   "cell_type": "code",
   "execution_count": 4,
   "metadata": {},
   "outputs": [],
   "source": [
    "#train_b.shape"
   ]
  },
  {
   "cell_type": "code",
   "execution_count": 5,
   "metadata": {},
   "outputs": [],
   "source": [
    "#train_x = np.delete(train_b,375,0)"
   ]
  },
  {
   "cell_type": "code",
   "execution_count": 6,
   "metadata": {},
   "outputs": [],
   "source": [
    "#np.save('./train_375.npy',train_x)"
   ]
  },
  {
   "cell_type": "code",
   "execution_count": 7,
   "metadata": {},
   "outputs": [],
   "source": [
    "#test1 = np.zeros(shape=(1,61,61,275,1))\n",
    "#for f in glob.glob(\"./test/*.npy\"):\n",
    "#    with open(f, \"rb\") as infile:\n",
    "#            test = np.load(infile).reshape(1,61,61,275,1)\n",
    "#            test2 = np.concatenate([test,test1],axis=0)\n",
    "#            test1 = test2"
   ]
  },
  {
   "cell_type": "code",
   "execution_count": 8,
   "metadata": {},
   "outputs": [
    {
     "data": {
      "text/plain": [
       "(125, 61, 61, 275, 1)"
      ]
     },
     "execution_count": 8,
     "metadata": {},
     "output_type": "execute_result"
    }
   ],
   "source": [
    "test_x.shape"
   ]
  },
  {
   "cell_type": "code",
   "execution_count": 9,
   "metadata": {},
   "outputs": [],
   "source": [
    "#test_x = np.delete(test2,125,0)"
   ]
  },
  {
   "cell_type": "code",
   "execution_count": 10,
   "metadata": {},
   "outputs": [],
   "source": [
    "#np.save('./test_125.npy',test_x)"
   ]
  },
  {
   "cell_type": "code",
   "execution_count": 11,
   "metadata": {},
   "outputs": [
    {
     "data": {
      "text/html": [
       "<div>\n",
       "<style scoped>\n",
       "    .dataframe tbody tr th:only-of-type {\n",
       "        vertical-align: middle;\n",
       "    }\n",
       "\n",
       "    .dataframe tbody tr th {\n",
       "        vertical-align: top;\n",
       "    }\n",
       "\n",
       "    .dataframe thead th {\n",
       "        text-align: right;\n",
       "    }\n",
       "</style>\n",
       "<table border=\"1\" class=\"dataframe\">\n",
       "  <thead>\n",
       "    <tr style=\"text-align: right;\">\n",
       "      <th></th>\n",
       "      <th>0</th>\n",
       "    </tr>\n",
       "  </thead>\n",
       "  <tbody>\n",
       "    <tr>\n",
       "      <th>0</th>\n",
       "      <td>0</td>\n",
       "    </tr>\n",
       "    <tr>\n",
       "      <th>1</th>\n",
       "      <td>0</td>\n",
       "    </tr>\n",
       "    <tr>\n",
       "      <th>2</th>\n",
       "      <td>1</td>\n",
       "    </tr>\n",
       "    <tr>\n",
       "      <th>3</th>\n",
       "      <td>0</td>\n",
       "    </tr>\n",
       "    <tr>\n",
       "      <th>4</th>\n",
       "      <td>0</td>\n",
       "    </tr>\n",
       "  </tbody>\n",
       "</table>\n",
       "</div>"
      ],
      "text/plain": [
       "   0\n",
       "0  0\n",
       "1  0\n",
       "2  1\n",
       "3  0\n",
       "4  0"
      ]
     },
     "execution_count": 11,
     "metadata": {},
     "output_type": "execute_result"
    }
   ],
   "source": [
    "import pandas as pd\n",
    "\n",
    "label_df = pd.read_csv(\"./germination_label.csv\")\n",
    "label_df.head(5)"
   ]
  },
  {
   "cell_type": "code",
   "execution_count": 12,
   "metadata": {},
   "outputs": [
    {
     "data": {
      "text/html": [
       "<div>\n",
       "<style scoped>\n",
       "    .dataframe tbody tr th:only-of-type {\n",
       "        vertical-align: middle;\n",
       "    }\n",
       "\n",
       "    .dataframe tbody tr th {\n",
       "        vertical-align: top;\n",
       "    }\n",
       "\n",
       "    .dataframe thead th {\n",
       "        text-align: right;\n",
       "    }\n",
       "</style>\n",
       "<table border=\"1\" class=\"dataframe\">\n",
       "  <thead>\n",
       "    <tr style=\"text-align: right;\">\n",
       "      <th></th>\n",
       "      <th>0</th>\n",
       "    </tr>\n",
       "  </thead>\n",
       "  <tbody>\n",
       "    <tr>\n",
       "      <th>0</th>\n",
       "      <td>0</td>\n",
       "    </tr>\n",
       "    <tr>\n",
       "      <th>1</th>\n",
       "      <td>0</td>\n",
       "    </tr>\n",
       "    <tr>\n",
       "      <th>2</th>\n",
       "      <td>1</td>\n",
       "    </tr>\n",
       "    <tr>\n",
       "      <th>3</th>\n",
       "      <td>0</td>\n",
       "    </tr>\n",
       "    <tr>\n",
       "      <th>4</th>\n",
       "      <td>0</td>\n",
       "    </tr>\n",
       "  </tbody>\n",
       "</table>\n",
       "</div>"
      ],
      "text/plain": [
       "   0\n",
       "0  0\n",
       "1  0\n",
       "2  1\n",
       "3  0\n",
       "4  0"
      ]
     },
     "execution_count": 12,
     "metadata": {},
     "output_type": "execute_result"
    }
   ],
   "source": [
    "train_y = label_df[0:375]\n",
    "train_y.head(5)"
   ]
  },
  {
   "cell_type": "code",
   "execution_count": 13,
   "metadata": {},
   "outputs": [],
   "source": [
    "from keras.utils import to_categorical\n",
    "train_y = to_categorical(train_y)"
   ]
  },
  {
   "cell_type": "code",
   "execution_count": 14,
   "metadata": {},
   "outputs": [
    {
     "data": {
      "text/html": [
       "<div>\n",
       "<style scoped>\n",
       "    .dataframe tbody tr th:only-of-type {\n",
       "        vertical-align: middle;\n",
       "    }\n",
       "\n",
       "    .dataframe tbody tr th {\n",
       "        vertical-align: top;\n",
       "    }\n",
       "\n",
       "    .dataframe thead th {\n",
       "        text-align: right;\n",
       "    }\n",
       "</style>\n",
       "<table border=\"1\" class=\"dataframe\">\n",
       "  <thead>\n",
       "    <tr style=\"text-align: right;\">\n",
       "      <th></th>\n",
       "      <th>0</th>\n",
       "    </tr>\n",
       "  </thead>\n",
       "  <tbody>\n",
       "    <tr>\n",
       "      <th>375</th>\n",
       "      <td>1</td>\n",
       "    </tr>\n",
       "    <tr>\n",
       "      <th>376</th>\n",
       "      <td>0</td>\n",
       "    </tr>\n",
       "    <tr>\n",
       "      <th>377</th>\n",
       "      <td>1</td>\n",
       "    </tr>\n",
       "    <tr>\n",
       "      <th>378</th>\n",
       "      <td>0</td>\n",
       "    </tr>\n",
       "    <tr>\n",
       "      <th>379</th>\n",
       "      <td>1</td>\n",
       "    </tr>\n",
       "  </tbody>\n",
       "</table>\n",
       "</div>"
      ],
      "text/plain": [
       "     0\n",
       "375  1\n",
       "376  0\n",
       "377  1\n",
       "378  0\n",
       "379  1"
      ]
     },
     "execution_count": 14,
     "metadata": {},
     "output_type": "execute_result"
    }
   ],
   "source": [
    "test_y = label_df[375:500]\n",
    "test_y.head(5)"
   ]
  },
  {
   "cell_type": "code",
   "execution_count": 15,
   "metadata": {},
   "outputs": [
    {
     "data": {
      "text/plain": [
       "array([[0., 1.],\n",
       "       [1., 0.],\n",
       "       [0., 1.],\n",
       "       [1., 0.],\n",
       "       [0., 1.],\n",
       "       [1., 0.],\n",
       "       [0., 1.],\n",
       "       [1., 0.],\n",
       "       [1., 0.],\n",
       "       [1., 0.],\n",
       "       [0., 1.],\n",
       "       [1., 0.],\n",
       "       [1., 0.],\n",
       "       [1., 0.],\n",
       "       [0., 1.],\n",
       "       [1., 0.],\n",
       "       [1., 0.],\n",
       "       [0., 1.],\n",
       "       [1., 0.],\n",
       "       [0., 1.],\n",
       "       [1., 0.],\n",
       "       [1., 0.],\n",
       "       [1., 0.],\n",
       "       [1., 0.],\n",
       "       [1., 0.],\n",
       "       [1., 0.],\n",
       "       [1., 0.],\n",
       "       [1., 0.],\n",
       "       [1., 0.],\n",
       "       [1., 0.],\n",
       "       [1., 0.],\n",
       "       [0., 1.],\n",
       "       [1., 0.],\n",
       "       [1., 0.],\n",
       "       [1., 0.],\n",
       "       [0., 1.],\n",
       "       [1., 0.],\n",
       "       [1., 0.],\n",
       "       [0., 1.],\n",
       "       [1., 0.],\n",
       "       [1., 0.],\n",
       "       [1., 0.],\n",
       "       [1., 0.],\n",
       "       [1., 0.],\n",
       "       [1., 0.],\n",
       "       [0., 1.],\n",
       "       [0., 1.],\n",
       "       [0., 1.],\n",
       "       [0., 1.],\n",
       "       [1., 0.],\n",
       "       [0., 1.],\n",
       "       [1., 0.],\n",
       "       [1., 0.],\n",
       "       [1., 0.],\n",
       "       [1., 0.],\n",
       "       [1., 0.],\n",
       "       [0., 1.],\n",
       "       [0., 1.],\n",
       "       [0., 1.],\n",
       "       [1., 0.],\n",
       "       [1., 0.],\n",
       "       [1., 0.],\n",
       "       [1., 0.],\n",
       "       [0., 1.],\n",
       "       [1., 0.],\n",
       "       [0., 1.],\n",
       "       [0., 1.],\n",
       "       [0., 1.],\n",
       "       [0., 1.],\n",
       "       [1., 0.],\n",
       "       [0., 1.],\n",
       "       [0., 1.],\n",
       "       [0., 1.],\n",
       "       [1., 0.],\n",
       "       [1., 0.],\n",
       "       [1., 0.],\n",
       "       [1., 0.],\n",
       "       [1., 0.],\n",
       "       [1., 0.],\n",
       "       [1., 0.],\n",
       "       [0., 1.],\n",
       "       [0., 1.],\n",
       "       [0., 1.],\n",
       "       [0., 1.],\n",
       "       [1., 0.],\n",
       "       [1., 0.],\n",
       "       [1., 0.],\n",
       "       [0., 1.],\n",
       "       [1., 0.],\n",
       "       [0., 1.],\n",
       "       [1., 0.],\n",
       "       [0., 1.],\n",
       "       [0., 1.],\n",
       "       [0., 1.],\n",
       "       [0., 1.],\n",
       "       [0., 1.],\n",
       "       [0., 1.],\n",
       "       [1., 0.],\n",
       "       [0., 1.],\n",
       "       [1., 0.],\n",
       "       [1., 0.],\n",
       "       [0., 1.],\n",
       "       [1., 0.],\n",
       "       [0., 1.],\n",
       "       [1., 0.],\n",
       "       [0., 1.],\n",
       "       [1., 0.],\n",
       "       [0., 1.],\n",
       "       [0., 1.],\n",
       "       [0., 1.],\n",
       "       [0., 1.],\n",
       "       [0., 1.],\n",
       "       [0., 1.],\n",
       "       [1., 0.],\n",
       "       [1., 0.],\n",
       "       [0., 1.],\n",
       "       [1., 0.],\n",
       "       [0., 1.],\n",
       "       [0., 1.],\n",
       "       [1., 0.],\n",
       "       [0., 1.],\n",
       "       [1., 0.],\n",
       "       [0., 1.],\n",
       "       [1., 0.],\n",
       "       [0., 1.]], dtype=float32)"
      ]
     },
     "execution_count": 15,
     "metadata": {},
     "output_type": "execute_result"
    }
   ],
   "source": [
    "test_y = to_categorical(test_y)\n",
    "test_y"
   ]
  },
  {
   "cell_type": "code",
   "execution_count": 16,
   "metadata": {},
   "outputs": [
    {
     "name": "stdout",
     "output_type": "stream",
     "text": [
      "WARNING:tensorflow:From /usr/local/lib/python3.5/dist-packages/tensorflow/python/framework/op_def_library.py:263: colocate_with (from tensorflow.python.framework.ops) is deprecated and will be removed in a future version.\n",
      "Instructions for updating:\n",
      "Colocations handled automatically by placer.\n",
      "(None, 55, 55, 263, 32)\n",
      "WARNING:tensorflow:From /usr/local/lib/python3.5/dist-packages/keras/backend/tensorflow_backend.py:3445: calling dropout (from tensorflow.python.ops.nn_ops) with keep_prob is deprecated and will be removed in a future version.\n",
      "Instructions for updating:\n",
      "Please use `rate` instead of `keep_prob`. Rate should be set to `rate = 1 - keep_prob`.\n"
     ]
    }
   ],
   "source": [
    "input_layer = Input((61, 61, 275,1))\n",
    "\n",
    "conv_layer1 = Conv3D(filters=8, kernel_size=(3, 3, 7), activation='relu')(input_layer)\n",
    "conv_layer2 = Conv3D(filters=16, kernel_size=(3, 3, 5), activation='relu')(conv_layer1)\n",
    "conv_layer3 = Conv3D(filters=32, kernel_size=(3, 3, 3), activation='relu')(conv_layer2)\n",
    "print(conv_layer3._keras_shape)\n",
    "conv3d_shape = conv_layer3._keras_shape\n",
    "conv_layer3 = Reshape((conv3d_shape[1], conv3d_shape[2], conv3d_shape[3]*conv3d_shape[4]))(conv_layer3)\n",
    "conv_layer4 = Conv2D(filters=64, kernel_size=(3,3), activation='relu')(conv_layer3)\n",
    "\n",
    "flatten_layer = Flatten()(conv_layer4)\n",
    "\n",
    "dense_layer1 = Dense(units=256, activation='relu')(flatten_layer)\n",
    "dense_layer1 = Dropout(0.4)(dense_layer1)\n",
    "dense_layer2 = Dense(units=128, activation='relu')(dense_layer1)\n",
    "dense_layer2 = Dropout(0.4)(dense_layer2)\n",
    "output_layer = Dense(units=2, activation='softmax')(dense_layer2)"
   ]
  },
  {
   "cell_type": "code",
   "execution_count": 17,
   "metadata": {},
   "outputs": [],
   "source": [
    "model = Model(inputs=input_layer, outputs=output_layer)"
   ]
  },
  {
   "cell_type": "code",
   "execution_count": 18,
   "metadata": {},
   "outputs": [
    {
     "name": "stdout",
     "output_type": "stream",
     "text": [
      "_________________________________________________________________\n",
      "Layer (type)                 Output Shape              Param #   \n",
      "=================================================================\n",
      "input_1 (InputLayer)         (None, 61, 61, 275, 1)    0         \n",
      "_________________________________________________________________\n",
      "conv3d_1 (Conv3D)            (None, 59, 59, 269, 8)    512       \n",
      "_________________________________________________________________\n",
      "conv3d_2 (Conv3D)            (None, 57, 57, 265, 16)   5776      \n",
      "_________________________________________________________________\n",
      "conv3d_3 (Conv3D)            (None, 55, 55, 263, 32)   13856     \n",
      "_________________________________________________________________\n",
      "reshape_1 (Reshape)          (None, 55, 55, 8416)      0         \n",
      "_________________________________________________________________\n",
      "conv2d_1 (Conv2D)            (None, 53, 53, 64)        4847680   \n",
      "_________________________________________________________________\n",
      "flatten_1 (Flatten)          (None, 179776)            0         \n",
      "_________________________________________________________________\n",
      "dense_1 (Dense)              (None, 256)               46022912  \n",
      "_________________________________________________________________\n",
      "dropout_1 (Dropout)          (None, 256)               0         \n",
      "_________________________________________________________________\n",
      "dense_2 (Dense)              (None, 128)               32896     \n",
      "_________________________________________________________________\n",
      "dropout_2 (Dropout)          (None, 128)               0         \n",
      "_________________________________________________________________\n",
      "dense_3 (Dense)              (None, 2)                 258       \n",
      "=================================================================\n",
      "Total params: 50,923,890\n",
      "Trainable params: 50,923,890\n",
      "Non-trainable params: 0\n",
      "_________________________________________________________________\n"
     ]
    }
   ],
   "source": [
    "model.summary()"
   ]
  },
  {
   "cell_type": "code",
   "execution_count": 19,
   "metadata": {},
   "outputs": [],
   "source": [
    "adam = Adam(lr=0.001, decay=1e-06)\n",
    "model.compile(loss='categorical_crossentropy', optimizer=adam, metrics=['accuracy'])"
   ]
  },
  {
   "cell_type": "code",
   "execution_count": 20,
   "metadata": {},
   "outputs": [],
   "source": [
    "filepath = \"best-model.hdf5\"\n",
    "checkpoint = ModelCheckpoint(filepath, monitor='acc', verbose=1, save_best_only=True, mode='max')\n",
    "callbacks_list = [checkpoint]"
   ]
  },
  {
   "cell_type": "code",
   "execution_count": 21,
   "metadata": {},
   "outputs": [
    {
     "name": "stdout",
     "output_type": "stream",
     "text": [
      "WARNING:tensorflow:From /usr/local/lib/python3.5/dist-packages/tensorflow/python/ops/math_ops.py:3066: to_int32 (from tensorflow.python.ops.math_ops) is deprecated and will be removed in a future version.\n",
      "Instructions for updating:\n",
      "Use tf.cast instead.\n",
      "Epoch 1/50\n",
      "375/375 [==============================] - 43s 114ms/step - loss: 1.4278 - acc: 0.6853\n",
      "\n",
      "Epoch 00001: acc improved from -inf to 0.68533, saving model to best-model.hdf5\n",
      "Epoch 2/50\n",
      "375/375 [==============================] - 34s 90ms/step - loss: 0.6133 - acc: 0.7147\n",
      "\n",
      "Epoch 00002: acc improved from 0.68533 to 0.71467, saving model to best-model.hdf5\n",
      "Epoch 3/50\n",
      "375/375 [==============================] - 34s 91ms/step - loss: 0.5990 - acc: 0.7173\n",
      "\n",
      "Epoch 00003: acc improved from 0.71467 to 0.71733, saving model to best-model.hdf5\n",
      "Epoch 4/50\n",
      "375/375 [==============================] - 34s 91ms/step - loss: 0.6035 - acc: 0.7173\n",
      "\n",
      "Epoch 00004: acc improved from 0.71733 to 0.71733, saving model to best-model.hdf5\n",
      "Epoch 5/50\n",
      "375/375 [==============================] - 34s 92ms/step - loss: 0.5871 - acc: 0.7173\n",
      "\n",
      "Epoch 00005: acc did not improve from 0.71733\n",
      "Epoch 6/50\n",
      "375/375 [==============================] - 35s 92ms/step - loss: 0.5749 - acc: 0.7173\n",
      "\n",
      "Epoch 00006: acc did not improve from 0.71733\n",
      "Epoch 7/50\n",
      "375/375 [==============================] - 34s 92ms/step - loss: 0.5604 - acc: 0.7200\n",
      "\n",
      "Epoch 00007: acc improved from 0.71733 to 0.72000, saving model to best-model.hdf5\n",
      "Epoch 8/50\n",
      "375/375 [==============================] - 34s 92ms/step - loss: 0.5486 - acc: 0.7253\n",
      "\n",
      "Epoch 00008: acc improved from 0.72000 to 0.72533, saving model to best-model.hdf5\n",
      "Epoch 9/50\n",
      "375/375 [==============================] - 34s 92ms/step - loss: 0.5352 - acc: 0.7200\n",
      "\n",
      "Epoch 00009: acc did not improve from 0.72533\n",
      "Epoch 10/50\n",
      "375/375 [==============================] - 35s 92ms/step - loss: 0.5287 - acc: 0.7547\n",
      "\n",
      "Epoch 00010: acc improved from 0.72533 to 0.75467, saving model to best-model.hdf5\n",
      "Epoch 11/50\n",
      "375/375 [==============================] - 34s 92ms/step - loss: 0.4831 - acc: 0.7707\n",
      "\n",
      "Epoch 00011: acc improved from 0.75467 to 0.77067, saving model to best-model.hdf5\n",
      "Epoch 12/50\n",
      "375/375 [==============================] - 34s 92ms/step - loss: 0.4707 - acc: 0.7920\n",
      "\n",
      "Epoch 00012: acc improved from 0.77067 to 0.79200, saving model to best-model.hdf5\n",
      "Epoch 13/50\n",
      "375/375 [==============================] - 35s 92ms/step - loss: 0.4166 - acc: 0.7920\n",
      "\n",
      "Epoch 00013: acc improved from 0.79200 to 0.79200, saving model to best-model.hdf5\n",
      "Epoch 14/50\n",
      "375/375 [==============================] - 34s 92ms/step - loss: 0.3919 - acc: 0.8187\n",
      "\n",
      "Epoch 00014: acc improved from 0.79200 to 0.81867, saving model to best-model.hdf5\n",
      "Epoch 15/50\n",
      "375/375 [==============================] - 34s 92ms/step - loss: 0.3637 - acc: 0.8213\n",
      "\n",
      "Epoch 00015: acc improved from 0.81867 to 0.82133, saving model to best-model.hdf5\n",
      "Epoch 16/50\n",
      "375/375 [==============================] - 35s 92ms/step - loss: 0.3334 - acc: 0.8427\n",
      "\n",
      "Epoch 00016: acc improved from 0.82133 to 0.84267, saving model to best-model.hdf5\n",
      "Epoch 17/50\n",
      "375/375 [==============================] - 34s 92ms/step - loss: 0.2592 - acc: 0.8907\n",
      "\n",
      "Epoch 00017: acc improved from 0.84267 to 0.89067, saving model to best-model.hdf5\n",
      "Epoch 18/50\n",
      "375/375 [==============================] - 35s 92ms/step - loss: 0.2650 - acc: 0.8907\n",
      "\n",
      "Epoch 00018: acc did not improve from 0.89067\n",
      "Epoch 19/50\n",
      "375/375 [==============================] - 35s 92ms/step - loss: 0.2015 - acc: 0.8960\n",
      "\n",
      "Epoch 00019: acc improved from 0.89067 to 0.89600, saving model to best-model.hdf5\n",
      "Epoch 20/50\n",
      "375/375 [==============================] - 34s 92ms/step - loss: 0.2003 - acc: 0.9067\n",
      "\n",
      "Epoch 00020: acc improved from 0.89600 to 0.90667, saving model to best-model.hdf5\n",
      "Epoch 21/50\n",
      "375/375 [==============================] - 35s 92ms/step - loss: 0.1614 - acc: 0.9147\n",
      "\n",
      "Epoch 00021: acc improved from 0.90667 to 0.91467, saving model to best-model.hdf5\n",
      "Epoch 22/50\n",
      "375/375 [==============================] - 35s 92ms/step - loss: 0.1826 - acc: 0.9067\n",
      "\n",
      "Epoch 00022: acc did not improve from 0.91467\n",
      "Epoch 23/50\n",
      "375/375 [==============================] - 35s 92ms/step - loss: 0.1552 - acc: 0.9173\n",
      "\n",
      "Epoch 00023: acc improved from 0.91467 to 0.91733, saving model to best-model.hdf5\n",
      "Epoch 24/50\n",
      "375/375 [==============================] - 35s 92ms/step - loss: 0.1617 - acc: 0.9173\n",
      "\n",
      "Epoch 00024: acc improved from 0.91733 to 0.91733, saving model to best-model.hdf5\n",
      "Epoch 25/50\n",
      "375/375 [==============================] - 35s 92ms/step - loss: 0.2540 - acc: 0.9013\n",
      "\n",
      "Epoch 00025: acc did not improve from 0.91733\n",
      "Epoch 26/50\n",
      "375/375 [==============================] - 34s 92ms/step - loss: 0.2646 - acc: 0.8933\n",
      "\n",
      "Epoch 00026: acc did not improve from 0.91733\n",
      "Epoch 27/50\n",
      "375/375 [==============================] - 34s 92ms/step - loss: 0.1958 - acc: 0.9093\n",
      "\n",
      "Epoch 00027: acc did not improve from 0.91733\n",
      "Epoch 28/50\n",
      "375/375 [==============================] - 35s 92ms/step - loss: 0.1545 - acc: 0.9200\n",
      "\n",
      "Epoch 00028: acc improved from 0.91733 to 0.92000, saving model to best-model.hdf5\n",
      "Epoch 29/50\n",
      "375/375 [==============================] - 35s 92ms/step - loss: 0.1423 - acc: 0.9227\n",
      "\n",
      "Epoch 00029: acc improved from 0.92000 to 0.92267, saving model to best-model.hdf5\n",
      "Epoch 30/50\n",
      "375/375 [==============================] - 35s 92ms/step - loss: 0.1258 - acc: 0.9333\n",
      "\n",
      "Epoch 00030: acc improved from 0.92267 to 0.93333, saving model to best-model.hdf5\n",
      "Epoch 31/50\n",
      "375/375 [==============================] - 35s 92ms/step - loss: 0.1188 - acc: 0.9307\n",
      "\n",
      "Epoch 00031: acc did not improve from 0.93333\n",
      "Epoch 32/50\n",
      "375/375 [==============================] - 35s 92ms/step - loss: 0.1258 - acc: 0.9333\n",
      "\n",
      "Epoch 00032: acc improved from 0.93333 to 0.93333, saving model to best-model.hdf5\n",
      "Epoch 33/50\n",
      "375/375 [==============================] - 35s 92ms/step - loss: 0.1181 - acc: 0.9333\n",
      "\n",
      "Epoch 00033: acc improved from 0.93333 to 0.93333, saving model to best-model.hdf5\n",
      "Epoch 34/50\n",
      "375/375 [==============================] - 35s 92ms/step - loss: 0.1351 - acc: 0.9280\n",
      "\n",
      "Epoch 00034: acc did not improve from 0.93333\n",
      "Epoch 35/50\n",
      "375/375 [==============================] - 35s 92ms/step - loss: 0.1252 - acc: 0.9333\n",
      "\n",
      "Epoch 00035: acc did not improve from 0.93333\n",
      "Epoch 36/50\n",
      "375/375 [==============================] - 35s 92ms/step - loss: 0.1344 - acc: 0.9280\n",
      "\n",
      "Epoch 00036: acc did not improve from 0.93333\n",
      "Epoch 37/50\n",
      "375/375 [==============================] - 35s 92ms/step - loss: 0.1175 - acc: 0.9307\n",
      "\n",
      "Epoch 00037: acc did not improve from 0.93333\n",
      "Epoch 38/50\n",
      "375/375 [==============================] - 35s 92ms/step - loss: 0.1179 - acc: 0.9333\n",
      "\n",
      "Epoch 00038: acc did not improve from 0.93333\n",
      "Epoch 39/50\n",
      "375/375 [==============================] - 35s 92ms/step - loss: 0.1272 - acc: 0.9333\n",
      "\n",
      "Epoch 00039: acc improved from 0.93333 to 0.93333, saving model to best-model.hdf5\n",
      "Epoch 40/50\n",
      "375/375 [==============================] - 34s 92ms/step - loss: 0.1071 - acc: 0.9387\n",
      "\n",
      "Epoch 00040: acc improved from 0.93333 to 0.93867, saving model to best-model.hdf5\n",
      "Epoch 41/50\n",
      "375/375 [==============================] - 35s 92ms/step - loss: 0.1062 - acc: 0.9387\n",
      "\n",
      "Epoch 00041: acc did not improve from 0.93867\n",
      "Epoch 42/50\n",
      "375/375 [==============================] - 35s 92ms/step - loss: 0.1200 - acc: 0.9333\n",
      "\n",
      "Epoch 00042: acc did not improve from 0.93867\n",
      "Epoch 43/50\n",
      "375/375 [==============================] - 35s 92ms/step - loss: 0.1186 - acc: 0.9307\n",
      "\n",
      "Epoch 00043: acc did not improve from 0.93867\n",
      "Epoch 44/50\n",
      "375/375 [==============================] - 35s 92ms/step - loss: 0.1128 - acc: 0.9360\n",
      "\n",
      "Epoch 00044: acc did not improve from 0.93867\n",
      "Epoch 45/50\n",
      "375/375 [==============================] - 35s 92ms/step - loss: 0.1048 - acc: 0.9387\n",
      "\n",
      "Epoch 00045: acc improved from 0.93867 to 0.93867, saving model to best-model.hdf5\n",
      "Epoch 46/50\n",
      "375/375 [==============================] - 35s 92ms/step - loss: 0.1110 - acc: 0.9360\n",
      "\n",
      "Epoch 00046: acc did not improve from 0.93867\n",
      "Epoch 47/50\n",
      "375/375 [==============================] - 35s 92ms/step - loss: 0.1051 - acc: 0.9387\n",
      "\n",
      "Epoch 00047: acc did not improve from 0.93867\n",
      "Epoch 48/50\n",
      "375/375 [==============================] - 35s 92ms/step - loss: 0.1058 - acc: 0.9387\n",
      "\n",
      "Epoch 00048: acc did not improve from 0.93867\n",
      "Epoch 49/50\n"
     ]
    },
    {
     "name": "stdout",
     "output_type": "stream",
     "text": [
      "375/375 [==============================] - 35s 92ms/step - loss: 0.1098 - acc: 0.9360\n",
      "\n",
      "Epoch 00049: acc did not improve from 0.93867\n",
      "Epoch 50/50\n",
      "375/375 [==============================] - 35s 92ms/step - loss: 0.1060 - acc: 0.9387\n",
      "\n",
      "Epoch 00050: acc did not improve from 0.93867\n"
     ]
    }
   ],
   "source": [
    "history = model.fit(x=train_x, y=train_y, batch_size=12, epochs=50, callbacks=callbacks_list)"
   ]
  },
  {
   "cell_type": "code",
   "execution_count": 22,
   "metadata": {},
   "outputs": [],
   "source": [
    "# load best weights\n",
    "model.load_weights(\"best-model.hdf5\")\n",
    "model.compile(loss='categorical_crossentropy', optimizer=adam, metrics=['accuracy'])"
   ]
  },
  {
   "cell_type": "code",
   "execution_count": 23,
   "metadata": {},
   "outputs": [
    {
     "name": "stdout",
     "output_type": "stream",
     "text": [
      "125/125 [==============================] - 4s 36ms/step\n"
     ]
    },
    {
     "data": {
      "text/plain": [
       "[5.609525165557861, 0.49600000560283664]"
      ]
     },
     "execution_count": 23,
     "metadata": {},
     "output_type": "execute_result"
    }
   ],
   "source": [
    "#model.predict(test_x,batch_size=10)\n",
    "model.evaluate(test_x,test_y,batch_size=10)"
   ]
  },
  {
   "cell_type": "code",
   "execution_count": null,
   "metadata": {},
   "outputs": [],
   "source": []
  }
 ],
 "metadata": {
  "kernelspec": {
   "display_name": "Python 3",
   "language": "python",
   "name": "python3"
  },
  "language_info": {
   "codemirror_mode": {
    "name": "ipython",
    "version": 3
   },
   "file_extension": ".py",
   "mimetype": "text/x-python",
   "name": "python",
   "nbconvert_exporter": "python",
   "pygments_lexer": "ipython3",
   "version": "3.5.2"
  }
 },
 "nbformat": 4,
 "nbformat_minor": 2
}
