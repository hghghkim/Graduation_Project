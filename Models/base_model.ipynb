{
 "cells": [
  {
   "cell_type": "code",
   "execution_count": 1,
   "metadata": {},
   "outputs": [
    {
     "name": "stderr",
     "output_type": "stream",
     "text": [
      "Using TensorFlow backend.\n"
     ]
    }
   ],
   "source": [
    "import os\n",
    "import numpy as np\n",
    "import glob\n",
    "\n",
    "import keras\n",
    "from keras import models\n",
    "from keras import layers\n",
    "from keras import optimizers\n",
    "from keras.layers import Dropout, Input\n",
    "from keras.layers import Conv2D, Conv3D, Flatten, Dense, Reshape, BatchNormalization\n",
    "from keras.models import Model\n",
    "from keras.optimizers import Adam\n",
    "from keras.callbacks import ModelCheckpoint"
   ]
  },
  {
   "cell_type": "code",
   "execution_count": 2,
   "metadata": {},
   "outputs": [],
   "source": [
    "train_x = np.load('./train_375.npy')\n",
    "test_x = np.load('./test_125.npy')"
   ]
  },
  {
   "cell_type": "code",
   "execution_count": 2,
   "metadata": {},
   "outputs": [
    {
     "ename": "KeyboardInterrupt",
     "evalue": "",
     "output_type": "error",
     "traceback": [
      "\u001b[0;31m---------------------------------------------------------------------------\u001b[0m",
      "\u001b[0;31mKeyboardInterrupt\u001b[0m                         Traceback (most recent call last)",
      "\u001b[0;32m<ipython-input-2-3c9dfa52e7c2>\u001b[0m in \u001b[0;36m<module>\u001b[0;34m\u001b[0m\n\u001b[1;32m      3\u001b[0m     \u001b[0;32mwith\u001b[0m \u001b[0mopen\u001b[0m\u001b[0;34m(\u001b[0m\u001b[0mf\u001b[0m\u001b[0;34m,\u001b[0m \u001b[0;34m\"rb\"\u001b[0m\u001b[0;34m)\u001b[0m \u001b[0;32mas\u001b[0m \u001b[0minfile\u001b[0m\u001b[0;34m:\u001b[0m\u001b[0;34m\u001b[0m\u001b[0;34m\u001b[0m\u001b[0m\n\u001b[1;32m      4\u001b[0m             \u001b[0mtrain_data\u001b[0m \u001b[0;34m=\u001b[0m \u001b[0mnp\u001b[0m\u001b[0;34m.\u001b[0m\u001b[0mload\u001b[0m\u001b[0;34m(\u001b[0m\u001b[0minfile\u001b[0m\u001b[0;34m)\u001b[0m\u001b[0;34m.\u001b[0m\u001b[0mreshape\u001b[0m\u001b[0;34m(\u001b[0m\u001b[0;36m1\u001b[0m\u001b[0;34m,\u001b[0m\u001b[0;36m61\u001b[0m\u001b[0;34m,\u001b[0m\u001b[0;36m61\u001b[0m\u001b[0;34m,\u001b[0m\u001b[0;36m275\u001b[0m\u001b[0;34m,\u001b[0m\u001b[0;36m1\u001b[0m\u001b[0;34m)\u001b[0m\u001b[0;34m\u001b[0m\u001b[0;34m\u001b[0m\u001b[0m\n\u001b[0;32m----> 5\u001b[0;31m             \u001b[0mtrain_b\u001b[0m \u001b[0;34m=\u001b[0m \u001b[0mnp\u001b[0m\u001b[0;34m.\u001b[0m\u001b[0mconcatenate\u001b[0m\u001b[0;34m(\u001b[0m\u001b[0;34m[\u001b[0m\u001b[0mtrain_data\u001b[0m\u001b[0;34m,\u001b[0m\u001b[0mtrain_a\u001b[0m\u001b[0;34m]\u001b[0m\u001b[0;34m,\u001b[0m\u001b[0maxis\u001b[0m\u001b[0;34m=\u001b[0m\u001b[0;36m0\u001b[0m\u001b[0;34m)\u001b[0m\u001b[0;34m\u001b[0m\u001b[0;34m\u001b[0m\u001b[0m\n\u001b[0m\u001b[1;32m      6\u001b[0m             \u001b[0mtrain_a\u001b[0m \u001b[0;34m=\u001b[0m \u001b[0mtrain_b\u001b[0m\u001b[0;34m\u001b[0m\u001b[0;34m\u001b[0m\u001b[0m\n",
      "\u001b[0;31mKeyboardInterrupt\u001b[0m: "
     ]
    }
   ],
   "source": [
    "#train_a = np.zeros(shape=(1,61,61,275,1))\n",
    "#for f in glob.glob(\"./train/*.npy\"):\n",
    "#    with open(f, \"rb\") as infile:\n",
    "#            train_data = np.load(infile).reshape(1,61,61,275,1)\n",
    "#            train_b = np.concatenate([train_data,train_a],axis=0)\n",
    "#            train_a = train_b"
   ]
  },
  {
   "cell_type": "code",
   "execution_count": null,
   "metadata": {},
   "outputs": [],
   "source": [
    "#train_b.shape"
   ]
  },
  {
   "cell_type": "code",
   "execution_count": null,
   "metadata": {},
   "outputs": [],
   "source": [
    "#train_x = np.delete(train_b,375,0)"
   ]
  },
  {
   "cell_type": "code",
   "execution_count": null,
   "metadata": {},
   "outputs": [],
   "source": [
    "#np.save('./train_375.npy',train_x)"
   ]
  },
  {
   "cell_type": "code",
   "execution_count": null,
   "metadata": {},
   "outputs": [],
   "source": [
    "#test1 = np.zeros(shape=(1,61,61,275,1))\n",
    "#for f in glob.glob(\"./test/*.npy\"):\n",
    "#    with open(f, \"rb\") as infile:\n",
    "#            test = np.load(infile).reshape(1,61,61,275,1)\n",
    "#            test2 = np.concatenate([test,test1],axis=0)\n",
    "#            test1 = test2"
   ]
  },
  {
   "cell_type": "code",
   "execution_count": 3,
   "metadata": {},
   "outputs": [
    {
     "data": {
      "text/plain": [
       "(125, 61, 61, 275, 1)"
      ]
     },
     "execution_count": 3,
     "metadata": {},
     "output_type": "execute_result"
    }
   ],
   "source": [
    "test_x.shape"
   ]
  },
  {
   "cell_type": "code",
   "execution_count": null,
   "metadata": {},
   "outputs": [],
   "source": [
    "#test_x = np.delete(test2,125,0)"
   ]
  },
  {
   "cell_type": "code",
   "execution_count": null,
   "metadata": {},
   "outputs": [],
   "source": [
    "#np.save('./test_125.npy',test_x)"
   ]
  },
  {
   "cell_type": "code",
   "execution_count": 6,
   "metadata": {},
   "outputs": [
    {
     "data": {
      "text/html": [
       "<div>\n",
       "<style scoped>\n",
       "    .dataframe tbody tr th:only-of-type {\n",
       "        vertical-align: middle;\n",
       "    }\n",
       "\n",
       "    .dataframe tbody tr th {\n",
       "        vertical-align: top;\n",
       "    }\n",
       "\n",
       "    .dataframe thead th {\n",
       "        text-align: right;\n",
       "    }\n",
       "</style>\n",
       "<table border=\"1\" class=\"dataframe\">\n",
       "  <thead>\n",
       "    <tr style=\"text-align: right;\">\n",
       "      <th></th>\n",
       "      <th>0</th>\n",
       "    </tr>\n",
       "  </thead>\n",
       "  <tbody>\n",
       "    <tr>\n",
       "      <th>0</th>\n",
       "      <td>0</td>\n",
       "    </tr>\n",
       "    <tr>\n",
       "      <th>1</th>\n",
       "      <td>0</td>\n",
       "    </tr>\n",
       "    <tr>\n",
       "      <th>2</th>\n",
       "      <td>1</td>\n",
       "    </tr>\n",
       "    <tr>\n",
       "      <th>3</th>\n",
       "      <td>0</td>\n",
       "    </tr>\n",
       "    <tr>\n",
       "      <th>4</th>\n",
       "      <td>0</td>\n",
       "    </tr>\n",
       "  </tbody>\n",
       "</table>\n",
       "</div>"
      ],
      "text/plain": [
       "   0\n",
       "0  0\n",
       "1  0\n",
       "2  1\n",
       "3  0\n",
       "4  0"
      ]
     },
     "execution_count": 6,
     "metadata": {},
     "output_type": "execute_result"
    }
   ],
   "source": [
    "import pandas as pd\n",
    "\n",
    "label_df = pd.read_csv(\"./germination_label.csv\")\n",
    "label_df.head(5)"
   ]
  },
  {
   "cell_type": "code",
   "execution_count": 7,
   "metadata": {},
   "outputs": [
    {
     "data": {
      "text/html": [
       "<div>\n",
       "<style scoped>\n",
       "    .dataframe tbody tr th:only-of-type {\n",
       "        vertical-align: middle;\n",
       "    }\n",
       "\n",
       "    .dataframe tbody tr th {\n",
       "        vertical-align: top;\n",
       "    }\n",
       "\n",
       "    .dataframe thead th {\n",
       "        text-align: right;\n",
       "    }\n",
       "</style>\n",
       "<table border=\"1\" class=\"dataframe\">\n",
       "  <thead>\n",
       "    <tr style=\"text-align: right;\">\n",
       "      <th></th>\n",
       "      <th>0</th>\n",
       "    </tr>\n",
       "  </thead>\n",
       "  <tbody>\n",
       "    <tr>\n",
       "      <th>0</th>\n",
       "      <td>0</td>\n",
       "    </tr>\n",
       "    <tr>\n",
       "      <th>1</th>\n",
       "      <td>0</td>\n",
       "    </tr>\n",
       "    <tr>\n",
       "      <th>2</th>\n",
       "      <td>1</td>\n",
       "    </tr>\n",
       "    <tr>\n",
       "      <th>3</th>\n",
       "      <td>0</td>\n",
       "    </tr>\n",
       "    <tr>\n",
       "      <th>4</th>\n",
       "      <td>0</td>\n",
       "    </tr>\n",
       "  </tbody>\n",
       "</table>\n",
       "</div>"
      ],
      "text/plain": [
       "   0\n",
       "0  0\n",
       "1  0\n",
       "2  1\n",
       "3  0\n",
       "4  0"
      ]
     },
     "execution_count": 7,
     "metadata": {},
     "output_type": "execute_result"
    }
   ],
   "source": [
    "train_y = label_df[0:375]\n",
    "train_y.head(5)"
   ]
  },
  {
   "cell_type": "code",
   "execution_count": 8,
   "metadata": {},
   "outputs": [],
   "source": [
    "from keras.utils import to_categorical\n",
    "train_y = to_categorical(train_y)"
   ]
  },
  {
   "cell_type": "code",
   "execution_count": 9,
   "metadata": {},
   "outputs": [
    {
     "data": {
      "text/html": [
       "<div>\n",
       "<style scoped>\n",
       "    .dataframe tbody tr th:only-of-type {\n",
       "        vertical-align: middle;\n",
       "    }\n",
       "\n",
       "    .dataframe tbody tr th {\n",
       "        vertical-align: top;\n",
       "    }\n",
       "\n",
       "    .dataframe thead th {\n",
       "        text-align: right;\n",
       "    }\n",
       "</style>\n",
       "<table border=\"1\" class=\"dataframe\">\n",
       "  <thead>\n",
       "    <tr style=\"text-align: right;\">\n",
       "      <th></th>\n",
       "      <th>0</th>\n",
       "    </tr>\n",
       "  </thead>\n",
       "  <tbody>\n",
       "    <tr>\n",
       "      <th>375</th>\n",
       "      <td>1</td>\n",
       "    </tr>\n",
       "    <tr>\n",
       "      <th>376</th>\n",
       "      <td>0</td>\n",
       "    </tr>\n",
       "    <tr>\n",
       "      <th>377</th>\n",
       "      <td>1</td>\n",
       "    </tr>\n",
       "    <tr>\n",
       "      <th>378</th>\n",
       "      <td>0</td>\n",
       "    </tr>\n",
       "    <tr>\n",
       "      <th>379</th>\n",
       "      <td>1</td>\n",
       "    </tr>\n",
       "  </tbody>\n",
       "</table>\n",
       "</div>"
      ],
      "text/plain": [
       "     0\n",
       "375  1\n",
       "376  0\n",
       "377  1\n",
       "378  0\n",
       "379  1"
      ]
     },
     "execution_count": 9,
     "metadata": {},
     "output_type": "execute_result"
    }
   ],
   "source": [
    "test_y = label_df[375:500]\n",
    "test_y.head(5)"
   ]
  },
  {
   "cell_type": "code",
   "execution_count": 10,
   "metadata": {},
   "outputs": [
    {
     "data": {
      "text/plain": [
       "array([[0., 1.],\n",
       "       [1., 0.],\n",
       "       [0., 1.],\n",
       "       [1., 0.],\n",
       "       [0., 1.],\n",
       "       [1., 0.],\n",
       "       [0., 1.],\n",
       "       [1., 0.],\n",
       "       [1., 0.],\n",
       "       [1., 0.],\n",
       "       [0., 1.],\n",
       "       [1., 0.],\n",
       "       [1., 0.],\n",
       "       [1., 0.],\n",
       "       [0., 1.],\n",
       "       [1., 0.],\n",
       "       [1., 0.],\n",
       "       [0., 1.],\n",
       "       [1., 0.],\n",
       "       [0., 1.],\n",
       "       [1., 0.],\n",
       "       [1., 0.],\n",
       "       [1., 0.],\n",
       "       [1., 0.],\n",
       "       [1., 0.],\n",
       "       [1., 0.],\n",
       "       [1., 0.],\n",
       "       [1., 0.],\n",
       "       [1., 0.],\n",
       "       [1., 0.],\n",
       "       [1., 0.],\n",
       "       [0., 1.],\n",
       "       [1., 0.],\n",
       "       [1., 0.],\n",
       "       [1., 0.],\n",
       "       [0., 1.],\n",
       "       [1., 0.],\n",
       "       [1., 0.],\n",
       "       [0., 1.],\n",
       "       [1., 0.],\n",
       "       [1., 0.],\n",
       "       [1., 0.],\n",
       "       [1., 0.],\n",
       "       [1., 0.],\n",
       "       [1., 0.],\n",
       "       [0., 1.],\n",
       "       [0., 1.],\n",
       "       [0., 1.],\n",
       "       [0., 1.],\n",
       "       [1., 0.],\n",
       "       [0., 1.],\n",
       "       [1., 0.],\n",
       "       [1., 0.],\n",
       "       [1., 0.],\n",
       "       [1., 0.],\n",
       "       [1., 0.],\n",
       "       [0., 1.],\n",
       "       [0., 1.],\n",
       "       [0., 1.],\n",
       "       [1., 0.],\n",
       "       [1., 0.],\n",
       "       [1., 0.],\n",
       "       [1., 0.],\n",
       "       [0., 1.],\n",
       "       [1., 0.],\n",
       "       [0., 1.],\n",
       "       [0., 1.],\n",
       "       [0., 1.],\n",
       "       [0., 1.],\n",
       "       [1., 0.],\n",
       "       [0., 1.],\n",
       "       [0., 1.],\n",
       "       [0., 1.],\n",
       "       [1., 0.],\n",
       "       [1., 0.],\n",
       "       [1., 0.],\n",
       "       [1., 0.],\n",
       "       [1., 0.],\n",
       "       [1., 0.],\n",
       "       [1., 0.],\n",
       "       [0., 1.],\n",
       "       [0., 1.],\n",
       "       [0., 1.],\n",
       "       [0., 1.],\n",
       "       [1., 0.],\n",
       "       [1., 0.],\n",
       "       [1., 0.],\n",
       "       [0., 1.],\n",
       "       [1., 0.],\n",
       "       [0., 1.],\n",
       "       [1., 0.],\n",
       "       [0., 1.],\n",
       "       [0., 1.],\n",
       "       [0., 1.],\n",
       "       [0., 1.],\n",
       "       [0., 1.],\n",
       "       [0., 1.],\n",
       "       [1., 0.],\n",
       "       [0., 1.],\n",
       "       [1., 0.],\n",
       "       [1., 0.],\n",
       "       [0., 1.],\n",
       "       [1., 0.],\n",
       "       [0., 1.],\n",
       "       [1., 0.],\n",
       "       [0., 1.],\n",
       "       [1., 0.],\n",
       "       [0., 1.],\n",
       "       [0., 1.],\n",
       "       [0., 1.],\n",
       "       [0., 1.],\n",
       "       [0., 1.],\n",
       "       [0., 1.],\n",
       "       [1., 0.],\n",
       "       [1., 0.],\n",
       "       [0., 1.],\n",
       "       [1., 0.],\n",
       "       [0., 1.],\n",
       "       [0., 1.],\n",
       "       [1., 0.],\n",
       "       [0., 1.],\n",
       "       [1., 0.],\n",
       "       [0., 1.],\n",
       "       [1., 0.],\n",
       "       [0., 1.]], dtype=float32)"
      ]
     },
     "execution_count": 10,
     "metadata": {},
     "output_type": "execute_result"
    }
   ],
   "source": [
    "test_y = to_categorical(test_y)\n",
    "test_y"
   ]
  },
  {
   "cell_type": "code",
   "execution_count": 11,
   "metadata": {},
   "outputs": [
    {
     "name": "stdout",
     "output_type": "stream",
     "text": [
      "WARNING:tensorflow:From /usr/local/lib/python3.5/dist-packages/tensorflow/python/framework/op_def_library.py:263: colocate_with (from tensorflow.python.framework.ops) is deprecated and will be removed in a future version.\n",
      "Instructions for updating:\n",
      "Colocations handled automatically by placer.\n",
      "(None, 55, 55, 263, 32)\n",
      "WARNING:tensorflow:From /usr/local/lib/python3.5/dist-packages/keras/backend/tensorflow_backend.py:3445: calling dropout (from tensorflow.python.ops.nn_ops) with keep_prob is deprecated and will be removed in a future version.\n",
      "Instructions for updating:\n",
      "Please use `rate` instead of `keep_prob`. Rate should be set to `rate = 1 - keep_prob`.\n"
     ]
    }
   ],
   "source": [
    "input_layer = Input((61, 61, 275,1))\n",
    "\n",
    "conv_layer1 = Conv3D(filters=8, kernel_size=(3, 3, 7), activation='relu')(input_layer)\n",
    "conv_layer2 = Conv3D(filters=16, kernel_size=(3, 3, 5), activation='relu')(conv_layer1)\n",
    "conv_layer3 = Conv3D(filters=32, kernel_size=(3, 3, 3), activation='relu')(conv_layer2)\n",
    "print(conv_layer3._keras_shape)\n",
    "conv3d_shape = conv_layer3._keras_shape\n",
    "conv_layer3 = Reshape((conv3d_shape[1], conv3d_shape[2], conv3d_shape[3]*conv3d_shape[4]))(conv_layer3)\n",
    "conv_layer4 = Conv2D(filters=64, kernel_size=(3,3), activation='relu')(conv_layer3)\n",
    "\n",
    "flatten_layer = Flatten()(conv_layer4)\n",
    "\n",
    "dense_layer1 = Dense(units=256, activation='relu')(flatten_layer)\n",
    "dense_layer1 = Dropout(0.4)(dense_layer1)\n",
    "dense_layer2 = Dense(units=128, activation='relu')(dense_layer1)\n",
    "dense_layer2 = Dropout(0.4)(dense_layer2)\n",
    "output_layer = Dense(units=2, activation='softmax')(dense_layer2)"
   ]
  },
  {
   "cell_type": "code",
   "execution_count": 12,
   "metadata": {},
   "outputs": [],
   "source": [
    "model = Model(inputs=input_layer, outputs=output_layer)"
   ]
  },
  {
   "cell_type": "code",
   "execution_count": 13,
   "metadata": {},
   "outputs": [
    {
     "name": "stdout",
     "output_type": "stream",
     "text": [
      "_________________________________________________________________\n",
      "Layer (type)                 Output Shape              Param #   \n",
      "=================================================================\n",
      "input_1 (InputLayer)         (None, 61, 61, 275, 1)    0         \n",
      "_________________________________________________________________\n",
      "conv3d_1 (Conv3D)            (None, 59, 59, 269, 8)    512       \n",
      "_________________________________________________________________\n",
      "conv3d_2 (Conv3D)            (None, 57, 57, 265, 16)   5776      \n",
      "_________________________________________________________________\n",
      "conv3d_3 (Conv3D)            (None, 55, 55, 263, 32)   13856     \n",
      "_________________________________________________________________\n",
      "reshape_1 (Reshape)          (None, 55, 55, 8416)      0         \n",
      "_________________________________________________________________\n",
      "conv2d_1 (Conv2D)            (None, 53, 53, 64)        4847680   \n",
      "_________________________________________________________________\n",
      "flatten_1 (Flatten)          (None, 179776)            0         \n",
      "_________________________________________________________________\n",
      "dense_1 (Dense)              (None, 256)               46022912  \n",
      "_________________________________________________________________\n",
      "dropout_1 (Dropout)          (None, 256)               0         \n",
      "_________________________________________________________________\n",
      "dense_2 (Dense)              (None, 128)               32896     \n",
      "_________________________________________________________________\n",
      "dropout_2 (Dropout)          (None, 128)               0         \n",
      "_________________________________________________________________\n",
      "dense_3 (Dense)              (None, 2)                 258       \n",
      "=================================================================\n",
      "Total params: 50,923,890\n",
      "Trainable params: 50,923,890\n",
      "Non-trainable params: 0\n",
      "_________________________________________________________________\n"
     ]
    }
   ],
   "source": [
    "model.summary()"
   ]
  },
  {
   "cell_type": "code",
   "execution_count": 14,
   "metadata": {},
   "outputs": [],
   "source": [
    "adam = Adam(lr=0.001, decay=1e-06)\n",
    "model.compile(loss='categorical_crossentropy', optimizer=adam, metrics=['accuracy'])"
   ]
  },
  {
   "cell_type": "code",
   "execution_count": 15,
   "metadata": {},
   "outputs": [],
   "source": [
    "filepath = \"best-model.hdf5\"\n",
    "checkpoint = ModelCheckpoint(filepath, monitor='acc', verbose=1, save_best_only=True, mode='max')\n",
    "callbacks_list = [checkpoint]"
   ]
  },
  {
   "cell_type": "code",
   "execution_count": 16,
   "metadata": {},
   "outputs": [
    {
     "name": "stdout",
     "output_type": "stream",
     "text": [
      "WARNING:tensorflow:From /usr/local/lib/python3.5/dist-packages/tensorflow/python/ops/math_ops.py:3066: to_int32 (from tensorflow.python.ops.math_ops) is deprecated and will be removed in a future version.\n",
      "Instructions for updating:\n",
      "Use tf.cast instead.\n",
      "Epoch 1/30\n",
      "375/375 [==============================] - 44s 116ms/step - loss: 0.8426 - acc: 0.6880\n",
      "\n",
      "Epoch 00001: acc improved from -inf to 0.68800, saving model to best-model.hdf5\n",
      "Epoch 2/30\n",
      "375/375 [==============================] - 34s 90ms/step - loss: 0.6295 - acc: 0.7147\n",
      "\n",
      "Epoch 00002: acc improved from 0.68800 to 0.71467, saving model to best-model.hdf5\n",
      "Epoch 3/30\n",
      "375/375 [==============================] - 34s 90ms/step - loss: 0.6156 - acc: 0.7173\n",
      "\n",
      "Epoch 00003: acc improved from 0.71467 to 0.71733, saving model to best-model.hdf5\n",
      "Epoch 4/30\n",
      "375/375 [==============================] - 34s 90ms/step - loss: 0.6020 - acc: 0.7173\n",
      "\n",
      "Epoch 00004: acc did not improve from 0.71733\n",
      "Epoch 5/30\n",
      "375/375 [==============================] - 34s 90ms/step - loss: 0.6017 - acc: 0.7173\n",
      "\n",
      "Epoch 00005: acc did not improve from 0.71733\n",
      "Epoch 6/30\n",
      "375/375 [==============================] - 34s 91ms/step - loss: 0.6071 - acc: 0.7173\n",
      "\n",
      "Epoch 00006: acc improved from 0.71733 to 0.71733, saving model to best-model.hdf5\n",
      "Epoch 7/30\n",
      "375/375 [==============================] - 34s 91ms/step - loss: 0.6067 - acc: 0.7173\n",
      "\n",
      "Epoch 00007: acc did not improve from 0.71733\n",
      "Epoch 8/30\n",
      "375/375 [==============================] - 34s 92ms/step - loss: 0.6064 - acc: 0.7173\n",
      "\n",
      "Epoch 00008: acc did not improve from 0.71733\n",
      "Epoch 9/30\n",
      "375/375 [==============================] - 35s 92ms/step - loss: 0.6024 - acc: 0.7173\n",
      "\n",
      "Epoch 00009: acc did not improve from 0.71733\n",
      "Epoch 10/30\n",
      "375/375 [==============================] - 34s 92ms/step - loss: 0.6077 - acc: 0.7173\n",
      "\n",
      "Epoch 00010: acc did not improve from 0.71733\n",
      "Epoch 11/30\n",
      "375/375 [==============================] - 34s 92ms/step - loss: 0.5984 - acc: 0.7173\n",
      "\n",
      "Epoch 00011: acc did not improve from 0.71733\n",
      "Epoch 12/30\n",
      "375/375 [==============================] - 35s 92ms/step - loss: 0.6095 - acc: 0.7067\n",
      "\n",
      "Epoch 00012: acc did not improve from 0.71733\n",
      "Epoch 13/30\n",
      "375/375 [==============================] - 35s 92ms/step - loss: 0.6026 - acc: 0.7173\n",
      "\n",
      "Epoch 00013: acc did not improve from 0.71733\n",
      "Epoch 14/30\n",
      "375/375 [==============================] - 35s 92ms/step - loss: 0.5860 - acc: 0.7173\n",
      "\n",
      "Epoch 00014: acc did not improve from 0.71733\n",
      "Epoch 15/30\n",
      "375/375 [==============================] - 35s 92ms/step - loss: 0.5803 - acc: 0.7227\n",
      "\n",
      "Epoch 00015: acc improved from 0.71733 to 0.72267, saving model to best-model.hdf5\n",
      "Epoch 16/30\n",
      "375/375 [==============================] - 35s 92ms/step - loss: 0.5579 - acc: 0.7173\n",
      "\n",
      "Epoch 00016: acc did not improve from 0.72267\n",
      "Epoch 17/30\n",
      "375/375 [==============================] - 35s 92ms/step - loss: 0.5507 - acc: 0.7147\n",
      "\n",
      "Epoch 00017: acc did not improve from 0.72267\n",
      "Epoch 18/30\n",
      "375/375 [==============================] - 35s 92ms/step - loss: 0.5063 - acc: 0.7573\n",
      "\n",
      "Epoch 00018: acc improved from 0.72267 to 0.75733, saving model to best-model.hdf5\n",
      "Epoch 19/30\n",
      "375/375 [==============================] - 34s 92ms/step - loss: 0.4959 - acc: 0.7653\n",
      "\n",
      "Epoch 00019: acc improved from 0.75733 to 0.76533, saving model to best-model.hdf5\n",
      "Epoch 20/30\n",
      "375/375 [==============================] - 35s 92ms/step - loss: 0.3971 - acc: 0.8053\n",
      "\n",
      "Epoch 00020: acc improved from 0.76533 to 0.80533, saving model to best-model.hdf5\n",
      "Epoch 21/30\n",
      "375/375 [==============================] - 35s 92ms/step - loss: 0.3704 - acc: 0.8160\n",
      "\n",
      "Epoch 00021: acc improved from 0.80533 to 0.81600, saving model to best-model.hdf5\n",
      "Epoch 22/30\n",
      "375/375 [==============================] - 34s 92ms/step - loss: 0.2878 - acc: 0.8560\n",
      "\n",
      "Epoch 00022: acc improved from 0.81600 to 0.85600, saving model to best-model.hdf5\n",
      "Epoch 23/30\n",
      "375/375 [==============================] - 35s 92ms/step - loss: 0.2313 - acc: 0.8880\n",
      "\n",
      "Epoch 00023: acc improved from 0.85600 to 0.88800, saving model to best-model.hdf5\n",
      "Epoch 24/30\n",
      "375/375 [==============================] - 35s 92ms/step - loss: 0.1876 - acc: 0.9067\n",
      "\n",
      "Epoch 00024: acc improved from 0.88800 to 0.90667, saving model to best-model.hdf5\n",
      "Epoch 25/30\n",
      "375/375 [==============================] - 35s 92ms/step - loss: 0.1623 - acc: 0.9227\n",
      "\n",
      "Epoch 00025: acc improved from 0.90667 to 0.92267, saving model to best-model.hdf5\n",
      "Epoch 26/30\n",
      "375/375 [==============================] - 35s 92ms/step - loss: 0.1383 - acc: 0.9280\n",
      "\n",
      "Epoch 00026: acc improved from 0.92267 to 0.92800, saving model to best-model.hdf5\n",
      "Epoch 27/30\n",
      "375/375 [==============================] - 35s 92ms/step - loss: 0.1484 - acc: 0.9253\n",
      "\n",
      "Epoch 00027: acc did not improve from 0.92800\n",
      "Epoch 28/30\n",
      "375/375 [==============================] - 35s 92ms/step - loss: 0.1454 - acc: 0.9307\n",
      "\n",
      "Epoch 00028: acc improved from 0.92800 to 0.93067, saving model to best-model.hdf5\n",
      "Epoch 29/30\n",
      "375/375 [==============================] - 35s 92ms/step - loss: 0.1338 - acc: 0.9200\n",
      "\n",
      "Epoch 00029: acc did not improve from 0.93067\n",
      "Epoch 30/30\n",
      "375/375 [==============================] - 35s 92ms/step - loss: 0.1471 - acc: 0.9280\n",
      "\n",
      "Epoch 00030: acc did not improve from 0.93067\n"
     ]
    }
   ],
   "source": [
    "history = model.fit(x=train_x, y=train_y, batch_size=10, epochs=30, callbacks=callbacks_list)"
   ]
  },
  {
   "cell_type": "code",
   "execution_count": 17,
   "metadata": {},
   "outputs": [],
   "source": [
    "# load best weights\n",
    "model.load_weights(\"best-model.hdf5\")\n",
    "model.compile(loss='categorical_crossentropy', optimizer=adam, metrics=['accuracy'])"
   ]
  },
  {
   "cell_type": "code",
   "execution_count": 25,
   "metadata": {},
   "outputs": [
    {
     "name": "stdout",
     "output_type": "stream",
     "text": [
      "125/125 [==============================] - 4s 35ms/step\n"
     ]
    },
    {
     "data": {
      "text/plain": [
       "[3.2877099752426147, 0.480000005364418]"
      ]
     },
     "execution_count": 25,
     "metadata": {},
     "output_type": "execute_result"
    }
   ],
   "source": [
    "#model.predict(test_x,batch_size=10)\n",
    "model.evaluate(test_x,test_y,batch_size=10)"
   ]
  },
  {
   "cell_type": "code",
   "execution_count": null,
   "metadata": {},
   "outputs": [],
   "source": []
  }
 ],
 "metadata": {
  "kernelspec": {
   "display_name": "Python 3",
   "language": "python",
   "name": "python3"
  },
  "language_info": {
   "codemirror_mode": {
    "name": "ipython",
    "version": 3
   },
   "file_extension": ".py",
   "mimetype": "text/x-python",
   "name": "python",
   "nbconvert_exporter": "python",
   "pygments_lexer": "ipython3",
   "version": "3.5.2"
  }
 },
 "nbformat": 4,
 "nbformat_minor": 2
}
